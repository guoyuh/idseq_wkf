{
 "metadata": {
  "language_info": {
   "codemirror_mode": {
    "name": "ipython",
    "version": 3
   },
   "file_extension": ".py",
   "mimetype": "text/x-python",
   "name": "python",
   "nbconvert_exporter": "python",
   "pygments_lexer": "ipython3",
   "version": "3.6.13-final"
  },
  "orig_nbformat": 2,
  "kernelspec": {
   "name": "python3",
   "display_name": "Python 3.6.13 64-bit ('idseq': conda)",
   "metadata": {
    "interpreter": {
     "hash": "523fdd8958bb66a5be9e741d63bf623962ed2036a514bfee6d60313b85ca7d37"
    }
   }
  }
 },
 "nbformat": 4,
 "nbformat_minor": 2,
 "cells": [
  {
   "cell_type": "code",
   "execution_count": 8,
   "metadata": {},
   "outputs": [],
   "source": [
    "import pandas as pd\n",
    "tb1 = pd.read_table(\"/mnt/data/NCBI_Refseq/assembly_summary_refseq.txt\",sep=\"\\t\",header=0)\n",
    "\n",
    "my_tb = pd.read_table(\"/mnt/data/NCBI_Refseq/my_bac_assembly_summary_refseq.info20211101\",sep=\"\\t\",header=0)"
   ]
  },
  {
   "cell_type": "code",
   "execution_count": 9,
   "metadata": {},
   "outputs": [
    {
     "output_type": "execute_result",
     "data": {
      "text/plain": [
       "0         True\n",
       "1         True\n",
       "2         True\n",
       "3         True\n",
       "4         True\n",
       "          ... \n",
       "239065    True\n",
       "239066    True\n",
       "239067    True\n",
       "239068    True\n",
       "239069    True\n",
       "Name: assembly_accession, Length: 239070, dtype: bool"
      ]
     },
     "metadata": {},
     "execution_count": 9
    }
   ],
   "source": [
    "index =tb1[\"assembly_accession\"].isin(my_tb[\"assembly_accession\"])\n",
    "-index"
   ]
  },
  {
   "cell_type": "code",
   "execution_count": 11,
   "metadata": {},
   "outputs": [],
   "source": [
    "myadd = tb1.loc[-index]"
   ]
  },
  {
   "cell_type": "code",
   "execution_count": 16,
   "metadata": {},
   "outputs": [
    {
     "output_type": "execute_result",
     "data": {
      "text/plain": [
       "pandas.core.series.Series"
      ]
     },
     "metadata": {},
     "execution_count": 16
    }
   ],
   "source": [
    "type(myadd[\"submitter\"])"
   ]
  },
  {
   "cell_type": "code",
   "execution_count": 24,
   "metadata": {},
   "outputs": [
    {
     "output_type": "execute_result",
     "data": {
      "text/plain": [
       "<bound method DataFrame.info of        assembly_accession   bioproject     biosample         wgs_master  \\\n",
       "2809      GCF_000187285.1  PRJNA224116  SAMN02952912     AETX00000000.1   \n",
       "2810      GCF_000187305.2  PRJNA224116  SAMN02952913     AETY00000000.1   \n",
       "2811      GCF_000187325.2  PRJNA224116  SAMN02952914     AETZ00000000.1   \n",
       "2812      GCF_000187345.1  PRJNA224116  SAMN02952915     AEUA00000000.1   \n",
       "2813      GCF_000187365.1  PRJNA224116  SAMN02952916     AEUB00000000.1   \n",
       "...                   ...          ...           ...                ...   \n",
       "201098    GCF_019048545.1  PRJNA224116  SAMN16357593                NaN   \n",
       "201101    GCF_019048625.1  PRJNA224116  SAMN16357577                NaN   \n",
       "201102    GCF_019048645.1  PRJNA224116  SAMN16357600                NaN   \n",
       "201108    GCF_019048805.1  PRJNA224116  SAMN16357563                NaN   \n",
       "201320    GCF_019084125.1  PRJNA224116  SAMN19514382  JAHRDX000000000.1   \n",
       "\n",
       "       refseq_category   taxid  species_taxid  \\\n",
       "2809                na  926026            562   \n",
       "2810                na  926027            562   \n",
       "2811                na  926028            562   \n",
       "2812                na  926029            562   \n",
       "2813                na  926030            562   \n",
       "...                ...     ...            ...   \n",
       "201098              na     587            587   \n",
       "201101              na  158836         158836   \n",
       "201102              na    1309           1309   \n",
       "201108              na   57706          57706   \n",
       "201320              na     287            287   \n",
       "\n",
       "                                 organism_name       infraspecific_name  \\\n",
       "2809       Escherichia coli O157:H7 str. G5101             strain=G5101   \n",
       "2810      Escherichia coli O157:H- str. 493-89            strain=493-89   \n",
       "2811      Escherichia coli O157:H- str. H 2687            strain=H 2687   \n",
       "2812      Escherichia coli O55:H7 str. 3256-97  strain=3256-97 TW 07815   \n",
       "2813    Escherichia coli O55:H7 str. USDA 5905         strain=USDA 5905   \n",
       "...                                        ...                      ...   \n",
       "201098                    Providencia rettgeri     strain=FDAARGOS 1451   \n",
       "201101                 Enterobacter hormaechei     strain=FDAARGOS 1435   \n",
       "201102                    Streptococcus mutans     strain=FDAARGOS 1458   \n",
       "201108                     Citrobacter braakii     strain=FDAARGOS 1421   \n",
       "201320                  Pseudomonas aeruginosa          strain=NCTR 501   \n",
       "\n",
       "       isolate  ... genome_rep seq_rel_date      asm_name  \\\n",
       "2809       NaN  ...       Full   2012/03/15    ASM18728v4   \n",
       "2810       NaN  ...       Full   2020/01/15    ASM18730v3   \n",
       "2811       NaN  ...       Full   2020/01/15    ASM18732v3   \n",
       "2812       NaN  ...       Full   2011/01/31    ASM18734v2   \n",
       "2813       NaN  ...       Full   2011/01/31    ASM18736v2   \n",
       "...        ...  ...        ...          ...           ...   \n",
       "201098     NaN  ...       Full   2021/06/28  ASM1904854v1   \n",
       "201101     NaN  ...       Full   2021/06/28  ASM1904862v1   \n",
       "201102     NaN  ...       Full   2021/06/28  ASM1904864v1   \n",
       "201108     NaN  ...       Full   2021/06/28  ASM1904880v1   \n",
       "201320     NaN  ...       Full   2021/06/30  ASM1908412v1   \n",
       "\n",
       "                              submitter  gbrs_paired_asm paired_asm_comp  \\\n",
       "2809                                FDA  GCA_000187285.4       identical   \n",
       "2810                                FDA  GCA_000187305.3       identical   \n",
       "2811                                FDA  GCA_000187325.3       identical   \n",
       "2812                                FDA  GCA_000187345.2       identical   \n",
       "2813                                FDA  GCA_000187365.2       identical   \n",
       "...                                 ...              ...             ...   \n",
       "201098  US Food and Drug Administration  GCA_019048545.1       identical   \n",
       "201101  US Food and Drug Administration  GCA_019048625.1       identical   \n",
       "201102  US Food and Drug Administration  GCA_019048645.1       identical   \n",
       "201108  US Food and Drug Administration  GCA_019048805.1       identical   \n",
       "201320                         NCTR/FDA  GCA_019084125.1       identical   \n",
       "\n",
       "                                                 ftp_path  \\\n",
       "2809    ftp://ftp.ncbi.nlm.nih.gov/genomes/all/GCF/000...   \n",
       "2810    ftp://ftp.ncbi.nlm.nih.gov/genomes/all/GCF/000...   \n",
       "2811    ftp://ftp.ncbi.nlm.nih.gov/genomes/all/GCF/000...   \n",
       "2812    ftp://ftp.ncbi.nlm.nih.gov/genomes/all/GCF/000...   \n",
       "2813    ftp://ftp.ncbi.nlm.nih.gov/genomes/all/GCF/000...   \n",
       "...                                                   ...   \n",
       "201098  ftp://ftp.ncbi.nlm.nih.gov/genomes/all/GCF/019...   \n",
       "201101  ftp://ftp.ncbi.nlm.nih.gov/genomes/all/GCF/019...   \n",
       "201102  ftp://ftp.ncbi.nlm.nih.gov/genomes/all/GCF/019...   \n",
       "201108  ftp://ftp.ncbi.nlm.nih.gov/genomes/all/GCF/019...   \n",
       "201320  ftp://ftp.ncbi.nlm.nih.gov/genomes/all/GCF/019...   \n",
       "\n",
       "       excluded_from_refseq    relation_to_type_material asm_not_live_date  \n",
       "2809                    NaN                          NaN                na  \n",
       "2810                    NaN                          NaN                na  \n",
       "2811                    NaN                          NaN                na  \n",
       "2812                    NaN                          NaN                na  \n",
       "2813                    NaN                          NaN                na  \n",
       "...                     ...                          ...               ...  \n",
       "201098                  NaN                          NaN                na  \n",
       "201101                  NaN                          NaN                na  \n",
       "201102                  NaN  assembly from type material                na  \n",
       "201108                  NaN  assembly from type material                na  \n",
       "201320                  NaN                          NaN                na  \n",
       "\n",
       "[7876 rows x 23 columns]>"
      ]
     },
     "metadata": {},
     "execution_count": 24
    }
   ],
   "source": [
    "def my_fun(s):\n",
    "    s=str(s)\n",
    "    if s.find(\"US Food and Drug Administration\") != -1:\n",
    "        return True\n",
    "    elif s.find(\"FDA\") != -1:\n",
    "        return True\n",
    "    else:\n",
    "        return False\n",
    "ind = myadd[\"submitter\"].map(my_fun)\n",
    "myadd_FDA = myadd.loc[ind]\n",
    "myadd_FDA.info"
   ]
  },
  {
   "cell_type": "code",
   "execution_count": 26,
   "metadata": {},
   "outputs": [],
   "source": [
    "myadd_FDA.to_csv(\"/mnt/data/NCBI_Refseq/assembly_summary_refseq.add20211101.txt\",sep = '\\t')"
   ]
  },
  {
   "cell_type": "code",
   "execution_count": 18,
   "metadata": {},
   "outputs": [
    {
     "output_type": "execute_result",
     "data": {
      "text/plain": [
       "b'393548 /mnt/home/huanggy/project/20211029/result/filter/LX2110965.f.fastq\\n'"
      ]
     },
     "metadata": {},
     "execution_count": 18
    }
   ],
   "source": [
    "import subprocess\n",
    "\n",
    "cmd = \"wc -l /mnt/home/huanggy/project/20211029/result/filter/LX2110965.f.fastq\" \n",
    "ret = subprocess.check_output(cmd,shell = True)\n",
    "ret"
   ]
  },
  {
   "cell_type": "code",
   "execution_count": 2,
   "metadata": {},
   "outputs": [
    {
     "output_type": "error",
     "ename": "SyntaxError",
     "evalue": "invalid syntax (<ipython-input-2-4a273b4d457b>, line 1)",
     "traceback": [
      "\u001b[0;36m  File \u001b[0;32m\"<ipython-input-2-4a273b4d457b>\"\u001b[0;36m, line \u001b[0;32m1\u001b[0m\n\u001b[0;31m    devices = subprocess.check_output(xinput --list | awk '/.*pointer/')\u001b[0m\n\u001b[0m                                                                      ^\u001b[0m\n\u001b[0;31mSyntaxError\u001b[0m\u001b[0;31m:\u001b[0m invalid syntax\n"
     ]
    }
   ],
   "source": [
    "devices = subprocess.check_output(xinput --list | awk '/.*pointer/')\n",
    "devices"
   ]
  },
  {
   "cell_type": "code",
   "execution_count": 49,
   "metadata": {},
   "outputs": [
    {
     "output_type": "execute_result",
     "data": {
      "text/plain": [
       "<os._wrap_close at 0x7f7c119f82b0>"
      ]
     },
     "metadata": {},
     "execution_count": 49
    }
   ],
   "source": [
    "print(os.popen(\"cat  /mnt/home/huanggy/project/20211029/result/filter/LX2110965.f.fastq | wc -l\"))"
   ]
  },
  {
   "cell_type": "code",
   "execution_count": 5,
   "metadata": {},
   "outputs": [
    {
     "output_type": "execute_result",
     "data": {
      "text/plain": [
       "       taxid                                         lineage_id  \\\n",
       "0     166122  10239;2559587;2732397;2732409;2732514;2169561;...   \n",
       "1     508771  131567;2759;2698737;33630;5794;1280412;5796;75...   \n",
       "2      68204  131567;2;1783272;201174;1760;85011;2062;1883;6...   \n",
       "3      67322  131567;2;1783272;201174;1760;85011;2062;1883;6...   \n",
       "4      67312  131567;2;1783272;201174;1760;85011;2062;1883;6...   \n",
       "..       ...                                                ...   \n",
       "351  1756150  131567;2;1783270;68336;976;117743;200644;27623...   \n",
       "352  1867263  131567;2;1783270;68336;976;117743;200644;27623...   \n",
       "353   172045  131567;2;1783270;68336;976;117743;200644;27623...   \n",
       "354      238  131567;2;1783270;68336;976;117743;200644;27623...   \n",
       "355   418784  131567;2759;33154;4751;451864;4890;716545;1475...   \n",
       "\n",
       "                                          lineage_name  count  s_abundance  \n",
       "0    k__Viruses|p__Artverviricota|c__Revtraviricete...     29       0.7073  \n",
       "1    k__Eukaryota|p__Apicomplexa|c__Conoidasida|o__...  61410       0.5739  \n",
       "2    k__Bacteria|p__Actinobacteria|c__Actinomycetia...  58919       0.2992  \n",
       "3    k__Bacteria|p__Actinobacteria|c__Actinomycetia...  34105       0.1732  \n",
       "4    k__Bacteria|p__Actinobacteria|c__Actinomycetia...  33659       0.1709  \n",
       "..                                                 ...    ...          ...  \n",
       "351  k__Bacteria|p__Bacteroidetes|c__Flavobacteriia...      1       0.0000  \n",
       "352  k__Bacteria|p__Bacteroidetes|c__Flavobacteriia...      1       0.0000  \n",
       "353  k__Bacteria|p__Bacteroidetes|c__Flavobacteriia...      1       0.0000  \n",
       "354  k__Bacteria|p__Bacteroidetes|c__Flavobacteriia...      1       0.0000  \n",
       "355  k__Eukaryota|p__Ascomycota|c__Saccharomycetes|...      4       0.0000  \n",
       "\n",
       "[356 rows x 5 columns]"
      ],
      "text/html": "<div>\n<style scoped>\n    .dataframe tbody tr th:only-of-type {\n        vertical-align: middle;\n    }\n\n    .dataframe tbody tr th {\n        vertical-align: top;\n    }\n\n    .dataframe thead th {\n        text-align: right;\n    }\n</style>\n<table border=\"1\" class=\"dataframe\">\n  <thead>\n    <tr style=\"text-align: right;\">\n      <th></th>\n      <th>taxid</th>\n      <th>lineage_id</th>\n      <th>lineage_name</th>\n      <th>count</th>\n      <th>s_abundance</th>\n    </tr>\n  </thead>\n  <tbody>\n    <tr>\n      <th>0</th>\n      <td>166122</td>\n      <td>10239;2559587;2732397;2732409;2732514;2169561;...</td>\n      <td>k__Viruses|p__Artverviricota|c__Revtraviricete...</td>\n      <td>29</td>\n      <td>0.7073</td>\n    </tr>\n    <tr>\n      <th>1</th>\n      <td>508771</td>\n      <td>131567;2759;2698737;33630;5794;1280412;5796;75...</td>\n      <td>k__Eukaryota|p__Apicomplexa|c__Conoidasida|o__...</td>\n      <td>61410</td>\n      <td>0.5739</td>\n    </tr>\n    <tr>\n      <th>2</th>\n      <td>68204</td>\n      <td>131567;2;1783272;201174;1760;85011;2062;1883;6...</td>\n      <td>k__Bacteria|p__Actinobacteria|c__Actinomycetia...</td>\n      <td>58919</td>\n      <td>0.2992</td>\n    </tr>\n    <tr>\n      <th>3</th>\n      <td>67322</td>\n      <td>131567;2;1783272;201174;1760;85011;2062;1883;6...</td>\n      <td>k__Bacteria|p__Actinobacteria|c__Actinomycetia...</td>\n      <td>34105</td>\n      <td>0.1732</td>\n    </tr>\n    <tr>\n      <th>4</th>\n      <td>67312</td>\n      <td>131567;2;1783272;201174;1760;85011;2062;1883;6...</td>\n      <td>k__Bacteria|p__Actinobacteria|c__Actinomycetia...</td>\n      <td>33659</td>\n      <td>0.1709</td>\n    </tr>\n    <tr>\n      <th>...</th>\n      <td>...</td>\n      <td>...</td>\n      <td>...</td>\n      <td>...</td>\n      <td>...</td>\n    </tr>\n    <tr>\n      <th>351</th>\n      <td>1756150</td>\n      <td>131567;2;1783270;68336;976;117743;200644;27623...</td>\n      <td>k__Bacteria|p__Bacteroidetes|c__Flavobacteriia...</td>\n      <td>1</td>\n      <td>0.0000</td>\n    </tr>\n    <tr>\n      <th>352</th>\n      <td>1867263</td>\n      <td>131567;2;1783270;68336;976;117743;200644;27623...</td>\n      <td>k__Bacteria|p__Bacteroidetes|c__Flavobacteriia...</td>\n      <td>1</td>\n      <td>0.0000</td>\n    </tr>\n    <tr>\n      <th>353</th>\n      <td>172045</td>\n      <td>131567;2;1783270;68336;976;117743;200644;27623...</td>\n      <td>k__Bacteria|p__Bacteroidetes|c__Flavobacteriia...</td>\n      <td>1</td>\n      <td>0.0000</td>\n    </tr>\n    <tr>\n      <th>354</th>\n      <td>238</td>\n      <td>131567;2;1783270;68336;976;117743;200644;27623...</td>\n      <td>k__Bacteria|p__Bacteroidetes|c__Flavobacteriia...</td>\n      <td>1</td>\n      <td>0.0000</td>\n    </tr>\n    <tr>\n      <th>355</th>\n      <td>418784</td>\n      <td>131567;2759;33154;4751;451864;4890;716545;1475...</td>\n      <td>k__Eukaryota|p__Ascomycota|c__Saccharomycetes|...</td>\n      <td>4</td>\n      <td>0.0000</td>\n    </tr>\n  </tbody>\n</table>\n<p>356 rows × 5 columns</p>\n</div>"
     },
     "metadata": {},
     "execution_count": 5
    }
   ],
   "source": [
    "import pandas as pd \n",
    "tb = pd.read_csv(\"/mnt/home/huanggy/project/20211029/result/LX2110929/align/LX2110929.s.csv\")\n",
    "tb"
   ]
  },
  {
   "cell_type": "code",
   "execution_count": 6,
   "metadata": {},
   "outputs": [
    {
     "output_type": "execute_result",
     "data": {
      "text/plain": [
       "0         290.0\n",
       "1      614100.0\n",
       "2      589190.0\n",
       "3      341050.0\n",
       "4      336590.0\n",
       "         ...   \n",
       "351        10.0\n",
       "352        10.0\n",
       "353        10.0\n",
       "354        10.0\n",
       "355        40.0\n",
       "Name: count, Length: 356, dtype: float64"
      ]
     },
     "metadata": {},
     "execution_count": 6
    }
   ],
   "source": [
    "in_counts=1000000\n",
    "tb['count']/in_counts *1e6"
   ]
  }
 ]
}