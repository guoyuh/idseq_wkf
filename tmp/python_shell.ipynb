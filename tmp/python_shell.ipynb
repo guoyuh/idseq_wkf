{
 "metadata": {
  "language_info": {
   "codemirror_mode": {
    "name": "ipython",
    "version": 3
   },
   "file_extension": ".py",
   "mimetype": "text/x-python",
   "name": "python",
   "nbconvert_exporter": "python",
   "pygments_lexer": "ipython3",
   "version": "3.6.13-final"
  },
  "orig_nbformat": 2,
  "kernelspec": {
   "name": "python3",
   "display_name": "Python 3.6.13 64-bit ('idseq': conda)",
   "metadata": {
    "interpreter": {
     "hash": "523fdd8958bb66a5be9e741d63bf623962ed2036a514bfee6d60313b85ca7d37"
    }
   }
  }
 },
 "nbformat": 4,
 "nbformat_minor": 2,
 "cells": [
  {
   "cell_type": "code",
   "execution_count": 3,
   "metadata": {},
   "outputs": [],
   "source": [
    "import pandas as pd\n",
    "import numpy as np\n",
    "\n",
    "def assembleFile2strain(assemble_summary):\n",
    "    assemble_genome2organism_name = {}\n",
    "    with open(assemble_summary) as fh:\n",
    "        for line in fh:\n",
    "            if line.startswith(\"assembly_accession\"):\n",
    "                continue\n",
    "            if not line:\n",
    "                break\n",
    "            else:\n",
    "                organism_name = line.strip().split(\"\\t\")[7]\n",
    "                ftp_path = line.strip().split('\\t')[19].split('/')[-1] + \"_genomic\"\n",
    "                #print(organism_name + \"------>\" + ftp_path)\n",
    "                if ftp_path not in organism_name:\n",
    "                    assemble_genome2organism_name[ftp_path] = organism_name\n",
    "                else:\n",
    "                    print(\"assemble_genome_name 有重复\")\n",
    "\n",
    "    return assemble_genome2organism_name"
   ]
  },
  {
   "cell_type": "code",
   "execution_count": 4,
   "metadata": {},
   "outputs": [],
   "source": [
    "assemble_genome2organism_name = assembleFile2strain(assemble_summary = '/mnt/data/NCBI_Refseq/my_assembly_summary_refseq.info20211101.txt')"
   ]
  },
  {
   "cell_type": "code",
   "execution_count": null,
   "metadata": {},
   "outputs": [],
   "source": [
    "    tb = pd.read_table(coverm_file = '/mnt/home/huanggy/project/20211101/result/LX2110582/align/LX2110582.cove.tsv',sep='\\t',header=0)\n",
    "    out = os.path.dirname(coverm_file) + '/' + os.path.basename(coverm_file).strip(\".cove.tsv\") + '.refseq.cove.tsv'\n",
    "    tb.columns = ['Genome', 'Covered Fraction', 'Variance', 'Length', 'my_refseq_Read_Count', 'RPKM']\n",
    "    # for i in range(len(tb)):\n",
    "    #     print(tb.loc[i, 'Genome'])\n",
    "    #     #if assemble_genome2organism_name.get(tb.loc[i, 'Genome']):\n",
    "    #         tb.loc[i, 'Genome'] = assemble_genome2organism_name.get(tb.loc[i, 'Genome'])\n",
    "    tb['Genome'] = tb['Genome'].map(assemble_genome2organism_name,na_action='[None]')\n",
    "\n",
    "    print(tb.head())"
   ]
  }
 ]
}