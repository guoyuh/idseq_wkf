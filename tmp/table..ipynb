{
 "metadata": {
  "language_info": {
   "codemirror_mode": {
    "name": "ipython",
    "version": 3
   },
   "file_extension": ".py",
   "mimetype": "text/x-python",
   "name": "python",
   "nbconvert_exporter": "python",
   "pygments_lexer": "ipython3",
   "version": "3.6.13-final"
  },
  "orig_nbformat": 2,
  "kernelspec": {
   "name": "python3",
   "display_name": "Python 3.6.13 64-bit",
   "metadata": {
    "interpreter": {
     "hash": "523fdd8958bb66a5be9e741d63bf623962ed2036a514bfee6d60313b85ca7d37"
    }
   }
  }
 },
 "nbformat": 4,
 "nbformat_minor": 2,
 "cells": [
  {
   "cell_type": "code",
   "execution_count": 9,
   "metadata": {},
   "outputs": [
    {
     "output_type": "stream",
     "name": "stdout",
     "text": [
      "                                  [Total] Raw Reads (All reads)  10720067\n0                                          [Total]...                   0\n1                                           [Total...              915.23\n2                                           [Total...            10294894\n3                                           [Total...            10294744\n4                               [Total] Fraction o...              96.03%\n..                                                ...                 ...\n59                                       [flank] C...              88.92%\n60                                      [flank] Co...              74.66%\n61                                      [flank] Co...              48.07%\n62                                     [flank] Cov...              17.29%\n63                                     [flank] Cov...               0.19%\n\n[64 rows x 2 columns]\n"
     ]
    }
   ],
   "source": [
    "import pandas as pd \n",
    "depth_table=pd.read_csv(\"/mnt/project/plantform/645_run/20210924/02.mapping/L2106987FRED550G5kxT1/bamstat/coverage.report\",sep=\"\\t\",comment=\"#\",index_col=[0,1])\n",
    "print(depth_table)"
   ]
  },
  {
   "cell_type": "code",
   "execution_count": 5,
   "metadata": {},
   "outputs": [
    {
     "output_type": "stream",
     "name": "stdout",
     "text": [
      "0          101\n1          101\n2          102\n3          104\n4          105\n          ... \n2227869      0\n2227870      0\n2227871      0\n2227872      0\n2227873      0\nLength: 2227874, dtype: int64\n"
     ]
    }
   ],
   "source": [
    "df = pd.read_csv(\"/mnt/project/plantform/645_run/20210924/02.mapping/L2106987FRED550G5kxT1/bamstat/depth.tsv.gz\", sep='\\t', compression='gzip')\n",
    "raw_depth = pd.Series(df['Raw Depth'].values)\n",
    "print(raw_depth)"
   ]
  },
  {
   "cell_type": "code",
   "execution_count": 8,
   "metadata": {},
   "outputs": [
    {
     "output_type": "execute_result",
     "data": {
      "text/plain": [
       "array([101, 101, 102, ...,   0,   0,   0])"
      ]
     },
     "metadata": {},
     "execution_count": 8
    }
   ],
   "source": [
    "raw_depth.values"
   ]
  },
  {
   "cell_type": "code",
   "execution_count": null,
   "metadata": {},
   "outputs": [],
   "source": []
  }
 ]
}